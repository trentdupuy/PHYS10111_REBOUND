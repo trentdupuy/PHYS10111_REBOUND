{
 "cells": [
  {
   "cell_type": "markdown",
   "id": "1245bd80",
   "metadata": {},
   "source": [
    "# Simulating orbits with REBOUND\n",
    "\n",
    "https://rebound.readthedocs.io/en/latest/api/\n"
   ]
  },
  {
   "cell_type": "code",
   "execution_count": null,
   "id": "90bb9693",
   "metadata": {},
   "outputs": [],
   "source": [
    "pip install rebound"
   ]
  },
  {
   "cell_type": "code",
   "execution_count": null,
   "id": "37cd1c10",
   "metadata": {},
   "outputs": [],
   "source": [
    "%matplotlib inline\n",
    "%matplotlib widget\n",
    "import matplotlib.pyplot as plt\n",
    "import numpy as np\n",
    "import rebound\n",
    "from IPython.display import display, clear_output"
   ]
  },
  {
   "cell_type": "markdown",
   "id": "799e0bd6",
   "metadata": {},
   "source": [
    "To run an N-body simulation, we need to create a simulation object first. We will also choose units that are convenient for astronomy."
   ]
  },
  {
   "cell_type": "code",
   "execution_count": null,
   "id": "ae108e7f",
   "metadata": {},
   "outputs": [],
   "source": [
    "sim = rebound.Simulation()\n",
    "sim.units = ('AU','yr','Msun')\n",
    "sim.G = 39.476926408897626"
   ]
  },
  {
   "cell_type": "markdown",
   "id": "f3d94709",
   "metadata": {},
   "source": [
    "Then, we add bodies to the simulation. We will star with the star (1.5 solar masses) add then planets in the system from the inside out. Six parameters are required to uniquely specify the orbit of each planet of mass m, and we will use the following observationally determined ones:\n",
    " - semi-major axis (a) in au\n",
    " - eccentricity (e)\n",
    " - inclination (i) in radians\n",
    " - PA of the ascending node (Ω) in radians\n",
    " - argument of periastron (ω) in radians\n",
    " - mean anomaly at a reference epoch (MA_ref) in radians\n",
    " "
   ]
  },
  {
   "cell_type": "code",
   "execution_count": null,
   "id": "a20bd72a",
   "metadata": {},
   "outputs": [],
   "source": [
    "# Central star HR 8799 A\n",
    "#sim.add(m=1e-6)                \n",
    "sim.add(m=1.50)                \n",
    "\n",
    "# co-planar orbits\n",
    "dtor = np.pi / 180\n",
    "inc_pl = 27.8 * dtor\n",
    "Omega_pl = 60.1 * dtor\n",
    "\n",
    "# planet masses\n",
    "mass_e = 5e-3\n",
    "mass_d = mass_e\n",
    "\n",
    "# add inner most planet: HR 8799 e\n",
    "sim.add(m=mass_e, a=16.64, e=0.1397, omega=118.8*dtor, M=1.261, inc=inc_pl, Omega=Omega_pl)\n",
    "# add next planet: HR 8799 d\n",
    "sim.add(m=mass_d, a=26.29, e=0.1112, omega=24.3*dtor, M=2.032, inc=inc_pl, Omega=Omega_pl)\n",
    "\n",
    "# compute and print orbital elements of each planet\n",
    "print()\n",
    "print(\"      a (au)          e       omega (deg)  inc (deg)    Omega (deg)\")\n",
    "for o in sim.calculate_orbits(): \n",
    "    print(\"%12.4f %12.4f %12.4f %12.4f %12.4f \" % (o.a, o.e, o.omega/dtor, o.inc/dtor, o.Omega/dtor))"
   ]
  },
  {
   "cell_type": "markdown",
   "id": "3c994504",
   "metadata": {},
   "source": [
    "Now let's set the time steps for numerical integration. A general rule of thumb is that time steps should be at most 10% of the shortest orbital period. The following will compute all orbital elements for our simlated particles and print out their periods. We then select an appropriate time step."
   ]
  },
  {
   "cell_type": "code",
   "execution_count": null,
   "id": "6b6cbae2",
   "metadata": {},
   "outputs": [],
   "source": [
    "# compute and print orbital period of each planet\n",
    "print(\"   P (yr) \")\n",
    "for o in sim.calculate_orbits(): \n",
    "    print(\"%9.3f\" % o.P)\n",
    "\n",
    "# set the time step\n",
    "sim.dt = 1.0"
   ]
  },
  {
   "cell_type": "markdown",
   "id": "d8301be3",
   "metadata": {},
   "source": [
    "We want to work in the center-of-mass frame throughout this simulation. Now that we have set up some planets we can do that. Let's look at the positions of the host star and two planets before integrating our simulation forward. Are their distances from the origin about where we expect them?"
   ]
  },
  {
   "cell_type": "code",
   "execution_count": null,
   "id": "2eb7fc48",
   "metadata": {},
   "outputs": [],
   "source": [
    "# move to center of mass frame\n",
    "sim.move_to_com()\n",
    "\n",
    "# examine initial locations of particles\n",
    "print(\"   X (au)    Y (au)    Z (au) \")\n",
    "for p in sim.particles:\n",
    "    print(\"%9.3f %9.3f %9.3f\" % (p.x,p.y,p.z))"
   ]
  },
  {
   "cell_type": "markdown",
   "id": "21b8f113",
   "metadata": {},
   "source": [
    "For fun, let's plot what the orbits we've specified look like and where our planets are to start out with. We'll also save this first timestep so that we can return to it later."
   ]
  },
  {
   "cell_type": "code",
   "execution_count": null,
   "id": "2a7b7034",
   "metadata": {},
   "outputs": [],
   "source": [
    "# plot our starting point\n",
    "op = rebound.OrbitPlot(sim, color=True, periastron=False, unitlabel=\"[au]\",xlim=[-32,32.],ylim=[-32,32.])\n",
    "\n",
    "# save our starting point\n",
    "sim.save(\"start.bin\")"
   ]
  },
  {
   "cell_type": "markdown",
   "id": "52aaf85f",
   "metadata": {},
   "source": [
    "Now let's actually integrate the orbits forward. The code below will iteratively integrate more and more time, stopping occasionally to display where the planets are at. Feel free to play with the number of frames and the time between displaying frames\n",
    "\n",
    "Note: once you've run this block once, the simulation will always pick up where you left off. It won't start from the initial conditions. This is good if you want to keep exploring farther and farther in time, but bad if you want to re-run the experiment to check numbers."
   ]
  },
  {
   "cell_type": "code",
   "execution_count": null,
   "id": "337451a2",
   "metadata": {},
   "outputs": [],
   "source": [
    "nframe = 500        # at home, I found that 500 frames\n",
    "framestep = sim.dt  # at 1 yr/frame took ~30 s to render\n",
    "\n",
    "fig = op.fig\n",
    "for i in range(nframe):\n",
    "    op.sim.integrate(sim.t + framestep) # timestep the sim\n",
    "    clear_output(wait=True)             # clean up old plot\n",
    "    op.update()                         # update plot data\n",
    "    fig.canvas.draw()                   # redraw figure"
   ]
  },
  {
   "cell_type": "markdown",
   "id": "0c132c30",
   "metadata": {},
   "source": [
    "Let's see if the orbital elements of the planets have changed. In a stable system, they should only change negligibly with time."
   ]
  },
  {
   "cell_type": "code",
   "execution_count": null,
   "id": "1d189774",
   "metadata": {},
   "outputs": [],
   "source": [
    "# check time run so far\n",
    "sim.status(showAllFields=False)\n",
    "\n",
    "# move to center of mass frame\n",
    "sim.move_to_com()\n",
    "\n",
    "# compute and print orbital elements of each planet\n",
    "print()\n",
    "print(\"      a (au)          e       omega (deg)  inc (deg)    Omega (deg)\")\n",
    "for o in sim.calculate_orbits(): \n",
    "    print(\"%12.4f %12.4f %12.4f %12.4f %12.4f \" % (o.a, o.e, o.omega/dtor, o.inc/dtor, o.Omega/dtor))"
   ]
  },
  {
   "cell_type": "markdown",
   "id": "b3042455",
   "metadata": {},
   "source": [
    "There are actually two more (known) planets in the HR 8799 system. So let's go ahead and return to our original time step and add those in."
   ]
  },
  {
   "cell_type": "code",
   "execution_count": null,
   "id": "ea6ed7d6",
   "metadata": {},
   "outputs": [],
   "source": [
    "# reset sim\n",
    "del sim\n",
    "sim = rebound.Simulation(\"start.bin\")\n",
    "\n",
    "# planet masses\n",
    "mass_c = mass_e\n",
    "mass_b = 3e-3\n",
    "\n",
    "sim.add(m=mass_c, a=43.12, e=0.0561, omega=28.5*dtor, M=4.232, inc=inc_pl, Omega=Omega_pl)\n",
    "sim.add(m=mass_b, a=70.50, e=0.0113, omega=213.6*dtor, M=2.642, inc=inc_pl, Omega=Omega_pl)\n",
    "\n",
    "# move to center of mass frame\n",
    "sim.move_to_com()\n",
    "\n",
    "# verify the reset\n",
    "sim.status(showAllFields=False)\n",
    "\n",
    "# compute and print orbital elements of each planet\n",
    "print()\n",
    "print(\"      a (au)          e       omega (deg)  inc (deg)    Omega (deg)\")\n",
    "for o in sim.calculate_orbits(): \n",
    "    print(\"%12.4f %12.4f %12.4f %12.4f %12.4f \" % (o.a, o.e, o.omega/dtor, o.inc/dtor, o.Omega/dtor))"
   ]
  },
  {
   "cell_type": "code",
   "execution_count": null,
   "id": "76ca7354",
   "metadata": {},
   "outputs": [],
   "source": [
    "op = rebound.OrbitPlot(sim, color=True, periastron=False, unitlabel=\"[au]\")"
   ]
  },
  {
   "cell_type": "markdown",
   "id": "9e0687e6",
   "metadata": {},
   "source": [
    "Now let's run a long integration and then see how it looks at the end. (You can try running for as long as you like!)"
   ]
  },
  {
   "cell_type": "code",
   "execution_count": null,
   "id": "40ea86cc",
   "metadata": {},
   "outputs": [],
   "source": [
    "# run simulation\n",
    "sim.integrate(100000)\n",
    "\n",
    "# compute and print orbital elements of each planet\n",
    "print()\n",
    "print(\"      a (au)          e       omega (deg)  inc (deg)    Omega (deg)\")\n",
    "for o in sim.calculate_orbits(): \n",
    "    print(\"%12.4f %12.4f %12.4f %12.4f %12.4f \" % (o.a, o.e, o.omega/dtor, o.inc/dtor, o.Omega/dtor))\n",
    "    \n",
    "# sim.status(showAllFields=False)"
   ]
  },
  {
   "cell_type": "markdown",
   "id": "20078dda",
   "metadata": {},
   "source": [
    "Now let's consider the motion of the star with respect to the barycentre by zooming in on it."
   ]
  },
  {
   "cell_type": "code",
   "execution_count": null,
   "id": "6e7036c7",
   "metadata": {},
   "outputs": [],
   "source": [
    "op = rebound.OrbitPlot(sim,color=True,unitlabel=\"[AU]\",xlim=[-1,1],ylim=[-1,1],orbit_style=\"solid\")"
   ]
  },
  {
   "cell_type": "code",
   "execution_count": null,
   "id": "fa08bc25",
   "metadata": {},
   "outputs": [],
   "source": [
    "nframe = 500\n",
    "framestep = 1*sim.dt\n",
    "\n",
    "fig = op.fig\n",
    "for i in range(nframe):\n",
    "    op.sim.integrate(sim.t + framestep) # timestep the sim\n",
    "    #clear_output(wait=True)             # clean up old plot\n",
    "    op.update()                         # update plot data\n",
    "    fig.canvas.draw()                   # redraw figure"
   ]
  },
  {
   "cell_type": "markdown",
   "id": "31c4efc6",
   "metadata": {},
   "source": [
    "Finally, let's completely reimagine the system by assigning them the same orbital parameters but higher masses. Play with increasing the masses until you start to see dynamical instabilities show up in the animation. Based on their luminosities, we expect e, d, and c to all be about the same mass, and b is expected to be a bit lower."
   ]
  },
  {
   "cell_type": "code",
   "execution_count": null,
   "id": "6cb48360",
   "metadata": {},
   "outputs": [],
   "source": [
    "# reset sim\n",
    "del sim\n",
    "sim = rebound.Simulation()\n",
    "\n",
    "# Central star HR 8799 A\n",
    "sim.add(m=1.50)                \n",
    "\n",
    "# planet masses\n",
    "mass_e = 7.3e-3\n",
    "mass_d = mass_e\n",
    "mass_c = mass_e\n",
    "mass_b = mass_e * 0.5\n",
    "\n",
    "sim.add(m=mass_e, a=16.64, e=0.1397, omega=118.8*dtor, M=1.261, inc=inc_pl, Omega=Omega_pl)\n",
    "sim.add(m=mass_d, a=26.29, e=0.1112, omega=24.3*dtor, M=2.032, inc=inc_pl, Omega=Omega_pl)\n",
    "sim.add(m=mass_c, a=43.12, e=0.0561, omega=28.5*dtor, M=4.232, inc=inc_pl, Omega=Omega_pl)\n",
    "sim.add(m=mass_b, a=70.50, e=0.0113, omega=213.6*dtor, M=2.642, inc=inc_pl, Omega=Omega_pl)\n",
    "\n",
    "sim.move_to_com()"
   ]
  },
  {
   "cell_type": "markdown",
   "id": "98dca76e",
   "metadata": {},
   "source": [
    "After setting the planet masses, run the simulation for a large number of steps. Note that if the system disintegrates early in the time specified, it will slow down the simulation greatly. So if it seems to taking forever, then start over with either lower masses or shorter time."
   ]
  },
  {
   "cell_type": "code",
   "execution_count": null,
   "id": "75724b6c",
   "metadata": {},
   "outputs": [],
   "source": [
    "# run simulation\n",
    "sim.integrate(1000000)\n",
    "\n",
    "# plot endpoint\n",
    "op = rebound.OrbitPlot(sim, color=True, periastron=False, unitlabel=\"[au]\")"
   ]
  },
  {
   "cell_type": "code",
   "execution_count": null,
   "id": "44c27ba9",
   "metadata": {},
   "outputs": [],
   "source": [
    "# use this for reporting the final state of your simulation\n",
    "sim.status(showAllFields=False)"
   ]
  }
 ],
 "metadata": {
  "kernelspec": {
   "display_name": "Python 3 (ipykernel)",
   "language": "python",
   "name": "python3"
  },
  "language_info": {
   "codemirror_mode": {
    "name": "ipython",
    "version": 3
   },
   "file_extension": ".py",
   "mimetype": "text/x-python",
   "name": "python",
   "nbconvert_exporter": "python",
   "pygments_lexer": "ipython3",
   "version": "3.9.13"
  }
 },
 "nbformat": 4,
 "nbformat_minor": 5
}
